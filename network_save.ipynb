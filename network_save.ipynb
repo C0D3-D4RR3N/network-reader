{
 "cells": [
  {
   "cell_type": "code",
   "execution_count": 1,
   "metadata": {},
   "outputs": [],
   "source": [
    "# %pip install pypsa\n",
    "# %pip install flask\n",
    "# %pip install pandas\n",
    "# %pip install numpy"
   ]
  },
  {
   "cell_type": "code",
   "execution_count": 2,
   "metadata": {},
   "outputs": [],
   "source": [
    "%reset -f\n",
    "import os\n",
    "import pypsa\n",
    "import warnings\n",
    "import threading as th\n",
    "import webbrowser as wb\n",
    "import pandas as pd\n",
    "import numpy as np\n",
    "import pypsabackground as pyp\n",
    "import net_writer as nw\n",
    "from pathlib import Path\n",
    "\n",
    "# Set pandas options\n",
    "pd.set_option('display.max_columns', None)\n",
    "pd.options.plotting.backend = 'plotly'\n",
    "\n",
    "# Configure warnings\n",
    "warnings.filterwarnings(\"ignore\", category=UserWarning, module='openpyxl')\n",
    "\n",
    "network = pypsa.Network()"
   ]
  },
  {
   "cell_type": "code",
   "execution_count": 3,
   "metadata": {},
   "outputs": [],
   "source": [
    "'''________________________________\n",
    "Set the Time Period for the Network\n",
    "________________________________'''\n",
    "\n",
    "timePeriod = {\n",
    "    \"startDate\": \"2025-01-01 00:00\",\n",
    "    \"yearAmount\": 1\n",
    "}"
   ]
  },
  {
   "cell_type": "code",
   "execution_count": null,
   "metadata": {},
   "outputs": [],
   "source": [
    "'''____________________________________________________________\n",
    "Set the path for Raw Data in Excel files for Folder Management:\n",
    "_______________________________________________________________\n",
    "(Do not change folders unless necessary)\n",
    "(Move Input Data to their respective Folders before Running)'''\n",
    "\n",
    "rawFolder = Path(\"RawData\")  # Raw Data is in this Folder\n",
    "rawData = {\n",
    "    \"Plant\": {\n",
    "        \"Folder\": \"PlantData\",       # Keep Folders the same for Convenience\n",
    "        \"File\": \"AfricaModel_V4\",                                            # Change File Names for new Data\n",
    "        \"Sheet\": \"HydroAfrica\"\n",
    "    },\n",
    "    \"Demand\": {\n",
    "        \"Folder\": \"DemandData\",\n",
    "        \"File\": \"AfricaDemandData_V1\"\n",
    "    },\n",
    "    \"River\": {\n",
    "        \"Folder\": \"RiverFlow\",\n",
    "        \"File\": \"AfricaRiverData_V1\"\n",
    "    }\n",
    "}"
   ]
  },
  {
   "cell_type": "code",
   "execution_count": null,
   "metadata": {},
   "outputs": [],
   "source": [
    "'''__________________________________________\n",
    "Set the path for Data Exporting as CSV files:\n",
    "__________________________________________'''\n",
    "\n",
    "exportFolder = Path(\"ExportCSV\")\n",
    "exportData = {\n",
    "    \"Raw\" : {\n",
    "        \"Folder\" : \"RawExport\",\n",
    "        \"File\" : \"AfricaRawData\"\n",
    "    },\n",
    "    \"Result\" : {\n",
    "        \"Folder\" : \"ResultExport\",\n",
    "        \"File\" : \"AfricaResultData\"\n",
    "    }\n",
    "}"
   ]
  },
  {
   "cell_type": "code",
   "execution_count": null,
   "metadata": {},
   "outputs": [],
   "source": [
    "'''_______________________________________________________________\n",
    "Networks for the Webpage to Read are Saved in this Folder:\n",
    "__________________________________________________________________\n",
    "(Do not change otherwise the Webpage will not see the Networks)'''\n",
    "\n",
    "saveNetFolder = Path(\"SavedNetworks\")"
   ]
  },
  {
   "cell_type": "code",
   "execution_count": 4,
   "metadata": {},
   "outputs": [],
   "source": [
    "'''__________________________\n",
    "Create Folders for Exporting:\n",
    "__________________________'''\n",
    "\n",
    "saveNetFolder.mkdir(parents=True, exist_ok=True)\n",
    "exportFolder.mkdir(parents=True, exist_ok=True)"
   ]
  },
  {
   "cell_type": "code",
   "execution_count": 5,
   "metadata": {},
   "outputs": [
    {
     "name": "stdout",
     "output_type": "stream",
     "text": [
      "Solver highs succeeded!\n",
      "Selected solver: highs\n",
      "Error adding link for 0: cannot convert float NaN to integer\n",
      "Error adding link for 6: cannot convert float NaN to integer\n",
      "Error adding link for 8: cannot convert float NaN to integer\n",
      "Error adding link for 9: cannot convert float NaN to integer\n",
      "Error adding link for 10: cannot convert float NaN to integer\n",
      "Error adding link for 11: cannot convert float NaN to integer\n",
      "Error adding link for 12: cannot convert float NaN to integer\n",
      "Error adding link for 18: cannot convert float NaN to integer\n",
      "Error adding link for 22: cannot convert float NaN to integer\n",
      "Error adding link for 26: cannot convert float NaN to integer\n",
      "Error adding link for 32: cannot convert float NaN to integer\n",
      "Error adding link for 33: cannot convert float NaN to integer\n"
     ]
    }
   ],
   "source": [
    "'''___________________________________________________\n",
    "This Takes the Data Inputs Above and makes the Network\n",
    "___________________________________________________'''\n",
    "\n",
    "# Automatic Folder Pathing for Above Data Inputs\n",
    "plantPath = pyp.get_path(rawData, rawFolder, \"Plant\", \"File\")\n",
    "riverPath = pyp.get_path(rawData, rawFolder, \"River\", \"File\")\n",
    "demandPath = pyp.get_path(rawData, rawFolder, \"Demand\", \"File\")\n",
    "start_date = pd.Timestamp(timePeriod[\"startDate\"])\n",
    "end_date = start_date + pd.DateOffset(years=timePeriod[\"yearAmount\"]) - pd.Timedelta(hours=1)\n",
    "snapshots = pd.date_range(start_date,end_date , freq=\"h\")\n",
    "\n",
    "# Selects a Solver\n",
    "select_solver = pyp.solver_selected() #'highs'\n",
    "\n",
    "# Create network\n",
    "network = pypsa.Network()\n",
    "network.set_snapshots(snapshots)\n",
    "\n",
    "# Import Static, Plant, River and then Demand Data\n",
    "pyp.import_from_excel(network, f\"{str(plantPath)}.xlsx\")\n",
    "with pd.ExcelFile(f\"{str(plantPath)}.xlsx\") as xls:\n",
    "    plant_data_df = pd.read_excel(xls, sheet_name=rawData[\"Plant\"][\"Sheet\"], comment=\"#\")\n",
    "update_components = plant_data_df.apply(lambda row: pyp.add_plant_data(network, row), axis=1)\n",
    "pyp.import_river_inflows(network, f\"{str(riverPath)}.csv\")\n",
    "pyp.import_demand(network, f\"{str(demandPath)}.csv\")"
   ]
  },
  {
   "cell_type": "code",
   "execution_count": 6,
   "metadata": {},
   "outputs": [
    {
     "data": {
      "text/plain": [
       "'\\n______________________________________\\nExport Raw Data as csv files if needed\\n______________________________________\\n'"
      ]
     },
     "execution_count": 6,
     "metadata": {},
     "output_type": "execute_result"
    }
   ],
   "source": [
    "'''___________________________________\n",
    "Export Raw Data as csv files if needed\n",
    "(Uncomment [Ctrl+/] to Export)\n",
    "___________________________________'''\n",
    "\n",
    "# exportRawPath = pyp.get_path(exportData, exportFolder, \"Raw\", \"File\")\n",
    "# newRaw = pyp.get_next_filename(exportFolder / exportData['Raw']['Folder'], exportData['Raw']['File'], 'csv')\n",
    "# network.export_to_csv_folder(exportFolder / exportData['Raw']['Folder'] / newRaw)\n",
    "# rawFullPath = exportFolder / newRaw\n",
    "# print(f\"Raw saved to: {rawFullPath}\")"
   ]
  },
  {
   "cell_type": "code",
   "execution_count": 7,
   "metadata": {},
   "outputs": [
    {
     "name": "stderr",
     "output_type": "stream",
     "text": [
      "WARNING:pypsa.consistency:Encountered nan's in static data for columns ['efficiency2'] of component 'Link'.\n",
      "WARNING:pypsa.consistency:Encountered nan's in static data for columns ['e_nom'] of component 'Store'.\n",
      "WARNING:pypsa.consistency:Encountered nan's in static data for columns ['efficiency2'] of component 'Link'.\n",
      "WARNING:pypsa.consistency:Encountered nan's in static data for columns ['e_nom'] of component 'Store'.\n"
     ]
    },
    {
     "name": "stdout",
     "output_type": "stream",
     "text": [
      "Solver highs succeeded!\n",
      "Selected solver: highs\n"
     ]
    },
    {
     "name": "stderr",
     "output_type": "stream",
     "text": [
      "INFO:linopy.model: Solve problem using Highs solver\n",
      "INFO:linopy.io:Writing objective.\n",
      "Writing constraints.: 100%|\u001b[38;2;128;191;255m██████████\u001b[0m| 19/19 [00:16<00:00,  1.18it/s]\n",
      "Writing continuous variables.: 100%|\u001b[38;2;128;191;255m██████████\u001b[0m| 5/5 [00:01<00:00,  2.94it/s]\n",
      "Writing binary variables.: 100%|\u001b[38;2;128;191;255m██████████\u001b[0m| 3/3 [00:00<00:00,  3.75it/s]\n",
      "INFO:linopy.io: Writing time: 18.72s\n",
      "INFO:linopy.solvers:Log file at C:\\Users\\dazzc\\AppData\\Local\\Temp\\highs.log\n",
      "INFO:linopy.constants: Optimization successful: \n",
      "Status: ok\n",
      "Termination condition: optimal\n",
      "Solution: 1322775 primals, 2119907 duals\n",
      "Objective: 3.35e+10\n",
      "Solver model: available\n",
      "Solver message: optimal\n",
      "\n",
      "INFO:pypsa.optimization.optimize:The shadow-prices of the constraints Generator-fix-p-lower, Generator-fix-p-upper, Generator-ext-p-lower, Generator-ext-p-upper, Generator-p_set, Link-com-p-lower, Link-com-p-upper, Link-com-transition-start-up, Link-com-transition-shut-down, Link-com-status-min_up_time_must_stay_up, Link-com-p0-ramp_limit_up, Link-com-p0-ramp_limit_down, Store-fix-e-lower, Store-fix-e-upper, Store-energy_balance were not assigned to the network.\n"
     ]
    },
    {
     "data": {
      "text/plain": [
       "('ok', 'optimal')"
      ]
     },
     "execution_count": 7,
     "metadata": {},
     "output_type": "execute_result"
    }
   ],
   "source": [
    "select_solver = pyp.solver_selected()\n",
    "network.optimize(solver_name=select_solver)"
   ]
  },
  {
   "cell_type": "code",
   "execution_count": 8,
   "metadata": {},
   "outputs": [
    {
     "data": {
      "text/plain": [
       "'\\n_________________________________________\\nExport Result Data as csv files if needed\\n_________________________________________\\n'"
      ]
     },
     "execution_count": 8,
     "metadata": {},
     "output_type": "execute_result"
    }
   ],
   "source": [
    "'''______________________________________\n",
    "Export Result Data as csv files if needed\n",
    "______________________________________'''\n",
    "\n",
    "# exportResultPath = pyp.get_path(exportData, exportFolder, \"Result\", \"File\")\n",
    "# newResult = pyp.get_next_filename(exportFolder / exportData['Result']['Folder'], exportData['Result']['File'], 'csv')\n",
    "# network.export_to_csv_folder(exportFolder / exportData['Result']['Folder'] / newResult)\n",
    "# resultFullPath = exportFolder / newResult\n",
    "# print(f\"Result saved to: {resultFullPath}\")"
   ]
  },
  {
   "cell_type": "code",
   "execution_count": 9,
   "metadata": {},
   "outputs": [
    {
     "name": "stderr",
     "output_type": "stream",
     "text": [
      "INFO:pypsa.io:Exported network 'network5.h5' contains: links, stores, buses, carriers, generators, loads\n"
     ]
    },
    {
     "name": "stdout",
     "output_type": "stream",
     "text": [
      "Network saved to: SavedNetworks\\network5.h5\n"
     ]
    }
   ],
   "source": [
    "'''______________________________________________________________\n",
    "Network Exported as .h5 File that net_writer Can Read and Display\n",
    "______________________________________________________________'''\n",
    "\n",
    "newNet = pyp.get_next_filename(str(saveNetFolder), \"network\", 'h5')\n",
    "netFullPath = saveNetFolder / newNet\n",
    "network.export_to_hdf5(netFullPath)\n",
    "print(f\"Network saved to: {netFullPath}\")"
   ]
  },
  {
   "cell_type": "code",
   "execution_count": 10,
   "metadata": {},
   "outputs": [
    {
     "name": "stdout",
     "output_type": "stream",
     "text": [
      " * Serving Flask app 'net_writer'\n",
      " * Debug mode: off\n"
     ]
    },
    {
     "name": "stderr",
     "output_type": "stream",
     "text": [
      "INFO:werkzeug:\u001b[31m\u001b[1mWARNING: This is a development server. Do not use it in a production deployment. Use a production WSGI server instead.\u001b[0m\n",
      " * Running on http://127.0.0.1:5000\n",
      "INFO:werkzeug:\u001b[33mPress CTRL+C to quit\u001b[0m\n"
     ]
    },
    {
     "data": {
      "text/plain": [
       "True"
      ]
     },
     "execution_count": 10,
     "metadata": {},
     "output_type": "execute_result"
    },
    {
     "name": "stderr",
     "output_type": "stream",
     "text": [
      "INFO:werkzeug:127.0.0.1 - - [23/Oct/2024 11:36:29] \"GET / HTTP/1.1\" 200 -\n",
      "INFO:werkzeug:127.0.0.1 - - [23/Oct/2024 11:36:29] \"\u001b[36mGET /static/css/styles.css HTTP/1.1\u001b[0m\" 304 -\n",
      "INFO:werkzeug:127.0.0.1 - - [23/Oct/2024 11:36:29] \"\u001b[36mGET /static/js/script.js HTTP/1.1\u001b[0m\" 304 -\n",
      "INFO:pypsa.io:Imported network network1.h5 has buses, carriers, generators, links, loads, stores\n",
      "INFO:werkzeug:127.0.0.1 - - [23/Oct/2024 11:36:37] \"POST /load_network HTTP/1.1\" 200 -\n",
      "INFO:werkzeug:127.0.0.1 - - [23/Oct/2024 11:36:38] \"GET /get_components HTTP/1.1\" 200 -\n",
      "INFO:werkzeug:127.0.0.1 - - [23/Oct/2024 11:38:49] \"GET /get_data/Generator/all/static HTTP/1.1\" 200 -\n",
      "INFO:werkzeug:127.0.0.1 - - [23/Oct/2024 11:38:49] \"GET /get_data/Generator/all/static HTTP/1.1\" 200 -\n",
      "INFO:werkzeug:127.0.0.1 - - [23/Oct/2024 11:38:54] \"GET /get_data/Link/all/static HTTP/1.1\" 200 -\n",
      "INFO:werkzeug:127.0.0.1 - - [23/Oct/2024 11:38:54] \"GET /get_data/Link/all/static HTTP/1.1\" 200 -\n",
      "INFO:werkzeug:127.0.0.1 - - [23/Oct/2024 11:38:55] \"GET /get_attributes/Link HTTP/1.1\" 200 -\n",
      "INFO:werkzeug:127.0.0.1 - - [23/Oct/2024 11:38:55] \"GET /get_attributes/Link HTTP/1.1\" 200 -\n",
      "INFO:werkzeug:127.0.0.1 - - [23/Oct/2024 11:38:55] \"GET /get_data/Link/efficiency/varying HTTP/1.1\" 200 -\n",
      "INFO:werkzeug:127.0.0.1 - - [23/Oct/2024 11:38:55] \"GET /get_data/Link/efficiency/varying HTTP/1.1\" 200 -\n",
      "INFO:werkzeug:127.0.0.1 - - [23/Oct/2024 11:38:57] \"GET /get_data/Link/p0/varying HTTP/1.1\" 200 -\n",
      "INFO:werkzeug:127.0.0.1 - - [23/Oct/2024 11:38:57] \"GET /get_data/Link/p0/varying HTTP/1.1\" 200 -\n",
      "INFO:werkzeug:127.0.0.1 - - [23/Oct/2024 11:39:21] \"GET /get_data/Link/p0/varying HTTP/1.1\" 200 -\n",
      "INFO:werkzeug:127.0.0.1 - - [23/Oct/2024 11:39:33] \"GET /get_data/Link/p1/varying HTTP/1.1\" 200 -\n",
      "INFO:werkzeug:127.0.0.1 - - [23/Oct/2024 11:39:33] \"GET /get_data/Link/p1/varying HTTP/1.1\" 200 -\n",
      "INFO:werkzeug:127.0.0.1 - - [23/Oct/2024 11:39:37] \"GET /get_data/Link/p2/varying HTTP/1.1\" 200 -\n",
      "INFO:werkzeug:127.0.0.1 - - [23/Oct/2024 11:39:37] \"GET /get_data/Link/p2/varying HTTP/1.1\" 200 -\n",
      "INFO:werkzeug:127.0.0.1 - - [23/Oct/2024 12:17:54] \"GET /get_data/Link/efficiency2/varying HTTP/1.1\" 200 -\n",
      "INFO:werkzeug:127.0.0.1 - - [23/Oct/2024 12:17:54] \"GET /get_data/Link/efficiency2/varying HTTP/1.1\" 200 -\n",
      "INFO:werkzeug:127.0.0.1 - - [23/Oct/2024 12:17:56] \"GET /get_data/Link/p2/varying HTTP/1.1\" 200 -\n",
      "INFO:werkzeug:127.0.0.1 - - [23/Oct/2024 12:17:56] \"GET /get_data/Link/p2/varying HTTP/1.1\" 200 -\n"
     ]
    }
   ],
   "source": [
    "'''__________________________________________________________\n",
    "Run net_writer.py to start the Localhost and Open the Webpage\n",
    "__________________________________________________________'''\n",
    "\n",
    "def run_flask():\n",
    "    nw.app.run(port=5000)\n",
    "flask_thread = th.Thread(target=run_flask)\n",
    "flask_thread.start()\n",
    "wb.open(\"http://127.0.0.1:5000/\")"
   ]
  }
 ],
 "metadata": {
  "kernelspec": {
   "display_name": "base",
   "language": "python",
   "name": "python3"
  },
  "language_info": {
   "codemirror_mode": {
    "name": "ipython",
    "version": 3
   },
   "file_extension": ".py",
   "mimetype": "text/x-python",
   "name": "python",
   "nbconvert_exporter": "python",
   "pygments_lexer": "ipython3",
   "version": "3.10.13"
  }
 },
 "nbformat": 4,
 "nbformat_minor": 2
}
